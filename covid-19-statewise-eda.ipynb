{
 "cells": [
  {
   "cell_type": "code",
   "execution_count": 1,
   "id": "680ed016",
   "metadata": {
    "_cell_guid": "b1076dfc-b9ad-4769-8c92-a6c4dae69d19",
    "_uuid": "8f2839f25d086af736a60e9eeb907d3b93b6e0e5",
    "execution": {
     "iopub.execute_input": "2021-09-15T15:28:39.145092Z",
     "iopub.status.busy": "2021-09-15T15:28:39.144279Z",
     "iopub.status.idle": "2021-09-15T15:28:39.160374Z",
     "shell.execute_reply": "2021-09-15T15:28:39.159585Z",
     "shell.execute_reply.started": "2021-09-15T14:49:26.194883Z"
    },
    "papermill": {
     "duration": 0.051223,
     "end_time": "2021-09-15T15:28:39.160580",
     "exception": false,
     "start_time": "2021-09-15T15:28:39.109357",
     "status": "completed"
    },
    "tags": []
   },
   "outputs": [
    {
     "name": "stdout",
     "output_type": "stream",
     "text": [
      "/kaggle/input/latest-covid19-india-statewise-data/Latest Covid-19 India Status.csv\n"
     ]
    }
   ],
   "source": [
    "# This Python 3 environment comes with many helpful analytics libraries installed\n",
    "# It is defined by the kaggle/python Docker image: https://github.com/kaggle/docker-python\n",
    "# For example, here's several helpful packages to load\n",
    "\n",
    "import numpy as np # linear algebra\n",
    "import pandas as pd # data processing, CSV file I/O (e.g. pd.read_csv)\n",
    "\n",
    "# Input data files are available in the read-only \"../input/\" directory\n",
    "# For example, running this (by clicking run or pressing Shift+Enter) will list all files under the input directory\n",
    "\n",
    "import os\n",
    "for dirname, _, filenames in os.walk('/kaggle/input'):\n",
    "    for filename in filenames:\n",
    "        print(os.path.join(dirname, filename))\n",
    "\n",
    "# You can write up to 20GB to the current directory (/kaggle/working/) that gets preserved as output when you create a version using \"Save & Run All\" \n",
    "# You can also write temporary files to /kaggle/temp/, but they won't be saved outside of the current session"
   ]
  },
  {
   "cell_type": "code",
   "execution_count": 2,
   "id": "798bc6ce",
   "metadata": {
    "execution": {
     "iopub.execute_input": "2021-09-15T15:28:39.208448Z",
     "iopub.status.busy": "2021-09-15T15:28:39.207463Z",
     "iopub.status.idle": "2021-09-15T15:28:40.306121Z",
     "shell.execute_reply": "2021-09-15T15:28:40.305008Z",
     "shell.execute_reply.started": "2021-09-15T14:49:26.226594Z"
    },
    "papermill": {
     "duration": 1.125027,
     "end_time": "2021-09-15T15:28:40.306293",
     "exception": false,
     "start_time": "2021-09-15T15:28:39.181266",
     "status": "completed"
    },
    "tags": []
   },
   "outputs": [],
   "source": [
    "import seaborn as sns\n",
    "import matplotlib.pyplot as plt"
   ]
  },
  {
   "cell_type": "code",
   "execution_count": 3,
   "id": "29a96a40",
   "metadata": {
    "execution": {
     "iopub.execute_input": "2021-09-15T15:28:40.352802Z",
     "iopub.status.busy": "2021-09-15T15:28:40.352046Z",
     "iopub.status.idle": "2021-09-15T15:28:40.396491Z",
     "shell.execute_reply": "2021-09-15T15:28:40.397022Z",
     "shell.execute_reply.started": "2021-09-15T14:49:27.042543Z"
    },
    "papermill": {
     "duration": 0.070454,
     "end_time": "2021-09-15T15:28:40.397209",
     "exception": false,
     "start_time": "2021-09-15T15:28:40.326755",
     "status": "completed"
    },
    "tags": []
   },
   "outputs": [
    {
     "data": {
      "text/html": [
       "<div>\n",
       "<style scoped>\n",
       "    .dataframe tbody tr th:only-of-type {\n",
       "        vertical-align: middle;\n",
       "    }\n",
       "\n",
       "    .dataframe tbody tr th {\n",
       "        vertical-align: top;\n",
       "    }\n",
       "\n",
       "    .dataframe thead th {\n",
       "        text-align: right;\n",
       "    }\n",
       "</style>\n",
       "<table border=\"1\" class=\"dataframe\">\n",
       "  <thead>\n",
       "    <tr style=\"text-align: right;\">\n",
       "      <th></th>\n",
       "      <th>State/UTs</th>\n",
       "      <th>Total Cases</th>\n",
       "      <th>Active</th>\n",
       "      <th>Discharged</th>\n",
       "      <th>Deaths</th>\n",
       "      <th>Active Ratio (%)</th>\n",
       "      <th>Discharge Ratio (%)</th>\n",
       "      <th>Death Ratio (%)</th>\n",
       "    </tr>\n",
       "  </thead>\n",
       "  <tbody>\n",
       "    <tr>\n",
       "      <th>0</th>\n",
       "      <td>Andaman and Nicobar</td>\n",
       "      <td>7584</td>\n",
       "      <td>8</td>\n",
       "      <td>7447</td>\n",
       "      <td>129</td>\n",
       "      <td>0.11</td>\n",
       "      <td>98.19</td>\n",
       "      <td>1.70</td>\n",
       "    </tr>\n",
       "    <tr>\n",
       "      <th>1</th>\n",
       "      <td>Andhra Pradesh</td>\n",
       "      <td>2030849</td>\n",
       "      <td>14652</td>\n",
       "      <td>2002187</td>\n",
       "      <td>14010</td>\n",
       "      <td>0.72</td>\n",
       "      <td>98.59</td>\n",
       "      <td>0.69</td>\n",
       "    </tr>\n",
       "    <tr>\n",
       "      <th>2</th>\n",
       "      <td>Arunachal Pradesh</td>\n",
       "      <td>53807</td>\n",
       "      <td>533</td>\n",
       "      <td>53004</td>\n",
       "      <td>270</td>\n",
       "      <td>0.99</td>\n",
       "      <td>98.51</td>\n",
       "      <td>0.50</td>\n",
       "    </tr>\n",
       "    <tr>\n",
       "      <th>3</th>\n",
       "      <td>Assam</td>\n",
       "      <td>595669</td>\n",
       "      <td>5615</td>\n",
       "      <td>584296</td>\n",
       "      <td>5758</td>\n",
       "      <td>0.94</td>\n",
       "      <td>98.09</td>\n",
       "      <td>0.97</td>\n",
       "    </tr>\n",
       "    <tr>\n",
       "      <th>4</th>\n",
       "      <td>Bihar</td>\n",
       "      <td>725833</td>\n",
       "      <td>77</td>\n",
       "      <td>716098</td>\n",
       "      <td>9658</td>\n",
       "      <td>0.01</td>\n",
       "      <td>98.66</td>\n",
       "      <td>1.33</td>\n",
       "    </tr>\n",
       "    <tr>\n",
       "      <th>5</th>\n",
       "      <td>Chandigarh</td>\n",
       "      <td>65160</td>\n",
       "      <td>32</td>\n",
       "      <td>64311</td>\n",
       "      <td>817</td>\n",
       "      <td>0.05</td>\n",
       "      <td>98.70</td>\n",
       "      <td>1.25</td>\n",
       "    </tr>\n",
       "    <tr>\n",
       "      <th>6</th>\n",
       "      <td>Chhattisgarh</td>\n",
       "      <td>1004902</td>\n",
       "      <td>376</td>\n",
       "      <td>990968</td>\n",
       "      <td>13558</td>\n",
       "      <td>0.04</td>\n",
       "      <td>98.61</td>\n",
       "      <td>1.35</td>\n",
       "    </tr>\n",
       "    <tr>\n",
       "      <th>7</th>\n",
       "      <td>Dadra and Nagar Haveli and Daman and Diu</td>\n",
       "      <td>10670</td>\n",
       "      <td>5</td>\n",
       "      <td>10661</td>\n",
       "      <td>4</td>\n",
       "      <td>0.05</td>\n",
       "      <td>99.92</td>\n",
       "      <td>0.04</td>\n",
       "    </tr>\n",
       "    <tr>\n",
       "      <th>8</th>\n",
       "      <td>Delhi</td>\n",
       "      <td>1438250</td>\n",
       "      <td>377</td>\n",
       "      <td>1412790</td>\n",
       "      <td>25083</td>\n",
       "      <td>0.03</td>\n",
       "      <td>98.23</td>\n",
       "      <td>1.74</td>\n",
       "    </tr>\n",
       "    <tr>\n",
       "      <th>9</th>\n",
       "      <td>Goa</td>\n",
       "      <td>174891</td>\n",
       "      <td>702</td>\n",
       "      <td>170972</td>\n",
       "      <td>3217</td>\n",
       "      <td>0.40</td>\n",
       "      <td>97.76</td>\n",
       "      <td>1.84</td>\n",
       "    </tr>\n",
       "    <tr>\n",
       "      <th>10</th>\n",
       "      <td>Gujarat</td>\n",
       "      <td>825629</td>\n",
       "      <td>161</td>\n",
       "      <td>815386</td>\n",
       "      <td>10082</td>\n",
       "      <td>0.02</td>\n",
       "      <td>98.76</td>\n",
       "      <td>1.22</td>\n",
       "    </tr>\n",
       "    <tr>\n",
       "      <th>11</th>\n",
       "      <td>Haryana</td>\n",
       "      <td>770659</td>\n",
       "      <td>351</td>\n",
       "      <td>760501</td>\n",
       "      <td>9807</td>\n",
       "      <td>0.05</td>\n",
       "      <td>98.68</td>\n",
       "      <td>1.27</td>\n",
       "    </tr>\n",
       "    <tr>\n",
       "      <th>12</th>\n",
       "      <td>Himachal Pradesh</td>\n",
       "      <td>215893</td>\n",
       "      <td>1521</td>\n",
       "      <td>210733</td>\n",
       "      <td>3639</td>\n",
       "      <td>0.70</td>\n",
       "      <td>97.61</td>\n",
       "      <td>1.69</td>\n",
       "    </tr>\n",
       "    <tr>\n",
       "      <th>13</th>\n",
       "      <td>Jammu and Kashmir</td>\n",
       "      <td>326990</td>\n",
       "      <td>1247</td>\n",
       "      <td>321329</td>\n",
       "      <td>4414</td>\n",
       "      <td>0.38</td>\n",
       "      <td>98.27</td>\n",
       "      <td>1.35</td>\n",
       "    </tr>\n",
       "    <tr>\n",
       "      <th>14</th>\n",
       "      <td>Jharkhand</td>\n",
       "      <td>348079</td>\n",
       "      <td>117</td>\n",
       "      <td>342829</td>\n",
       "      <td>5133</td>\n",
       "      <td>0.03</td>\n",
       "      <td>98.49</td>\n",
       "      <td>1.47</td>\n",
       "    </tr>\n",
       "    <tr>\n",
       "      <th>15</th>\n",
       "      <td>Karnataka</td>\n",
       "      <td>2962408</td>\n",
       "      <td>16269</td>\n",
       "      <td>2908622</td>\n",
       "      <td>37517</td>\n",
       "      <td>0.55</td>\n",
       "      <td>98.18</td>\n",
       "      <td>1.27</td>\n",
       "    </tr>\n",
       "    <tr>\n",
       "      <th>16</th>\n",
       "      <td>Kerala</td>\n",
       "      <td>4390489</td>\n",
       "      <td>209335</td>\n",
       "      <td>4158504</td>\n",
       "      <td>22650</td>\n",
       "      <td>4.77</td>\n",
       "      <td>94.72</td>\n",
       "      <td>0.52</td>\n",
       "    </tr>\n",
       "    <tr>\n",
       "      <th>17</th>\n",
       "      <td>Ladakh</td>\n",
       "      <td>20608</td>\n",
       "      <td>30</td>\n",
       "      <td>20371</td>\n",
       "      <td>207</td>\n",
       "      <td>0.15</td>\n",
       "      <td>98.85</td>\n",
       "      <td>1.00</td>\n",
       "    </tr>\n",
       "    <tr>\n",
       "      <th>18</th>\n",
       "      <td>Lakshadweep</td>\n",
       "      <td>10353</td>\n",
       "      <td>5</td>\n",
       "      <td>10297</td>\n",
       "      <td>51</td>\n",
       "      <td>0.05</td>\n",
       "      <td>99.46</td>\n",
       "      <td>0.49</td>\n",
       "    </tr>\n",
       "    <tr>\n",
       "      <th>19</th>\n",
       "      <td>Madhya Pradesh</td>\n",
       "      <td>792353</td>\n",
       "      <td>131</td>\n",
       "      <td>781705</td>\n",
       "      <td>10517</td>\n",
       "      <td>0.02</td>\n",
       "      <td>98.66</td>\n",
       "      <td>1.33</td>\n",
       "    </tr>\n",
       "    <tr>\n",
       "      <th>20</th>\n",
       "      <td>Maharashtra</td>\n",
       "      <td>6500617</td>\n",
       "      <td>53427</td>\n",
       "      <td>6309021</td>\n",
       "      <td>138169</td>\n",
       "      <td>0.82</td>\n",
       "      <td>97.05</td>\n",
       "      <td>2.13</td>\n",
       "    </tr>\n",
       "    <tr>\n",
       "      <th>21</th>\n",
       "      <td>Manipur</td>\n",
       "      <td>117230</td>\n",
       "      <td>2617</td>\n",
       "      <td>112801</td>\n",
       "      <td>1812</td>\n",
       "      <td>2.23</td>\n",
       "      <td>96.22</td>\n",
       "      <td>1.55</td>\n",
       "    </tr>\n",
       "    <tr>\n",
       "      <th>22</th>\n",
       "      <td>Meghalaya</td>\n",
       "      <td>78359</td>\n",
       "      <td>1859</td>\n",
       "      <td>75141</td>\n",
       "      <td>1359</td>\n",
       "      <td>2.37</td>\n",
       "      <td>95.89</td>\n",
       "      <td>1.73</td>\n",
       "    </tr>\n",
       "    <tr>\n",
       "      <th>23</th>\n",
       "      <td>Mizoram</td>\n",
       "      <td>72883</td>\n",
       "      <td>13369</td>\n",
       "      <td>59273</td>\n",
       "      <td>241</td>\n",
       "      <td>18.34</td>\n",
       "      <td>81.33</td>\n",
       "      <td>0.33</td>\n",
       "    </tr>\n",
       "    <tr>\n",
       "      <th>24</th>\n",
       "      <td>Nagaland</td>\n",
       "      <td>30657</td>\n",
       "      <td>580</td>\n",
       "      <td>29432</td>\n",
       "      <td>645</td>\n",
       "      <td>1.89</td>\n",
       "      <td>96.00</td>\n",
       "      <td>2.10</td>\n",
       "    </tr>\n",
       "    <tr>\n",
       "      <th>25</th>\n",
       "      <td>Odisha</td>\n",
       "      <td>1016833</td>\n",
       "      <td>5919</td>\n",
       "      <td>1002810</td>\n",
       "      <td>8104</td>\n",
       "      <td>0.58</td>\n",
       "      <td>98.62</td>\n",
       "      <td>0.80</td>\n",
       "    </tr>\n",
       "    <tr>\n",
       "      <th>26</th>\n",
       "      <td>Puducherry</td>\n",
       "      <td>124836</td>\n",
       "      <td>860</td>\n",
       "      <td>122153</td>\n",
       "      <td>1823</td>\n",
       "      <td>0.69</td>\n",
       "      <td>97.85</td>\n",
       "      <td>1.46</td>\n",
       "    </tr>\n",
       "    <tr>\n",
       "      <th>27</th>\n",
       "      <td>Punjab</td>\n",
       "      <td>601072</td>\n",
       "      <td>309</td>\n",
       "      <td>584306</td>\n",
       "      <td>16457</td>\n",
       "      <td>0.05</td>\n",
       "      <td>97.21</td>\n",
       "      <td>2.74</td>\n",
       "    </tr>\n",
       "    <tr>\n",
       "      <th>28</th>\n",
       "      <td>Rajasthan</td>\n",
       "      <td>954198</td>\n",
       "      <td>90</td>\n",
       "      <td>945154</td>\n",
       "      <td>8954</td>\n",
       "      <td>0.01</td>\n",
       "      <td>99.05</td>\n",
       "      <td>0.94</td>\n",
       "    </tr>\n",
       "    <tr>\n",
       "      <th>29</th>\n",
       "      <td>Sikkim</td>\n",
       "      <td>30650</td>\n",
       "      <td>809</td>\n",
       "      <td>29464</td>\n",
       "      <td>377</td>\n",
       "      <td>2.64</td>\n",
       "      <td>96.13</td>\n",
       "      <td>1.23</td>\n",
       "    </tr>\n",
       "    <tr>\n",
       "      <th>30</th>\n",
       "      <td>Tamil Nadu</td>\n",
       "      <td>2635419</td>\n",
       "      <td>16522</td>\n",
       "      <td>2583707</td>\n",
       "      <td>35190</td>\n",
       "      <td>0.63</td>\n",
       "      <td>98.04</td>\n",
       "      <td>1.34</td>\n",
       "    </tr>\n",
       "    <tr>\n",
       "      <th>31</th>\n",
       "      <td>Telengana</td>\n",
       "      <td>661866</td>\n",
       "      <td>5253</td>\n",
       "      <td>652716</td>\n",
       "      <td>3897</td>\n",
       "      <td>0.79</td>\n",
       "      <td>98.62</td>\n",
       "      <td>0.59</td>\n",
       "    </tr>\n",
       "    <tr>\n",
       "      <th>32</th>\n",
       "      <td>Tripura</td>\n",
       "      <td>83672</td>\n",
       "      <td>485</td>\n",
       "      <td>82382</td>\n",
       "      <td>805</td>\n",
       "      <td>0.58</td>\n",
       "      <td>98.46</td>\n",
       "      <td>0.96</td>\n",
       "    </tr>\n",
       "    <tr>\n",
       "      <th>33</th>\n",
       "      <td>Uttar Pradesh</td>\n",
       "      <td>1709555</td>\n",
       "      <td>175</td>\n",
       "      <td>1686497</td>\n",
       "      <td>22883</td>\n",
       "      <td>0.01</td>\n",
       "      <td>98.65</td>\n",
       "      <td>1.34</td>\n",
       "    </tr>\n",
       "    <tr>\n",
       "      <th>34</th>\n",
       "      <td>Uttarakhand</td>\n",
       "      <td>343242</td>\n",
       "      <td>293</td>\n",
       "      <td>335560</td>\n",
       "      <td>7389</td>\n",
       "      <td>0.09</td>\n",
       "      <td>97.76</td>\n",
       "      <td>2.15</td>\n",
       "    </tr>\n",
       "    <tr>\n",
       "      <th>35</th>\n",
       "      <td>West Bengal</td>\n",
       "      <td>1557414</td>\n",
       "      <td>8096</td>\n",
       "      <td>1530731</td>\n",
       "      <td>18587</td>\n",
       "      <td>0.52</td>\n",
       "      <td>98.29</td>\n",
       "      <td>1.19</td>\n",
       "    </tr>\n",
       "  </tbody>\n",
       "</table>\n",
       "</div>"
      ],
      "text/plain": [
       "                                   State/UTs  Total Cases  Active  Discharged  \\\n",
       "0                        Andaman and Nicobar         7584       8        7447   \n",
       "1                             Andhra Pradesh      2030849   14652     2002187   \n",
       "2                          Arunachal Pradesh        53807     533       53004   \n",
       "3                                      Assam       595669    5615      584296   \n",
       "4                                      Bihar       725833      77      716098   \n",
       "5                                 Chandigarh        65160      32       64311   \n",
       "6                               Chhattisgarh      1004902     376      990968   \n",
       "7   Dadra and Nagar Haveli and Daman and Diu        10670       5       10661   \n",
       "8                                      Delhi      1438250     377     1412790   \n",
       "9                                        Goa       174891     702      170972   \n",
       "10                                   Gujarat       825629     161      815386   \n",
       "11                                   Haryana       770659     351      760501   \n",
       "12                          Himachal Pradesh       215893    1521      210733   \n",
       "13                         Jammu and Kashmir       326990    1247      321329   \n",
       "14                                 Jharkhand       348079     117      342829   \n",
       "15                                 Karnataka      2962408   16269     2908622   \n",
       "16                                    Kerala      4390489  209335     4158504   \n",
       "17                                    Ladakh        20608      30       20371   \n",
       "18                               Lakshadweep        10353       5       10297   \n",
       "19                            Madhya Pradesh       792353     131      781705   \n",
       "20                               Maharashtra      6500617   53427     6309021   \n",
       "21                                   Manipur       117230    2617      112801   \n",
       "22                                 Meghalaya        78359    1859       75141   \n",
       "23                                   Mizoram        72883   13369       59273   \n",
       "24                                  Nagaland        30657     580       29432   \n",
       "25                                    Odisha      1016833    5919     1002810   \n",
       "26                                Puducherry       124836     860      122153   \n",
       "27                                    Punjab       601072     309      584306   \n",
       "28                                 Rajasthan       954198      90      945154   \n",
       "29                                    Sikkim        30650     809       29464   \n",
       "30                                Tamil Nadu      2635419   16522     2583707   \n",
       "31                                 Telengana       661866    5253      652716   \n",
       "32                                   Tripura        83672     485       82382   \n",
       "33                             Uttar Pradesh      1709555     175     1686497   \n",
       "34                               Uttarakhand       343242     293      335560   \n",
       "35                               West Bengal      1557414    8096     1530731   \n",
       "\n",
       "    Deaths  Active Ratio (%)  Discharge Ratio (%)  Death Ratio (%)  \n",
       "0      129              0.11                98.19             1.70  \n",
       "1    14010              0.72                98.59             0.69  \n",
       "2      270              0.99                98.51             0.50  \n",
       "3     5758              0.94                98.09             0.97  \n",
       "4     9658              0.01                98.66             1.33  \n",
       "5      817              0.05                98.70             1.25  \n",
       "6    13558              0.04                98.61             1.35  \n",
       "7        4              0.05                99.92             0.04  \n",
       "8    25083              0.03                98.23             1.74  \n",
       "9     3217              0.40                97.76             1.84  \n",
       "10   10082              0.02                98.76             1.22  \n",
       "11    9807              0.05                98.68             1.27  \n",
       "12    3639              0.70                97.61             1.69  \n",
       "13    4414              0.38                98.27             1.35  \n",
       "14    5133              0.03                98.49             1.47  \n",
       "15   37517              0.55                98.18             1.27  \n",
       "16   22650              4.77                94.72             0.52  \n",
       "17     207              0.15                98.85             1.00  \n",
       "18      51              0.05                99.46             0.49  \n",
       "19   10517              0.02                98.66             1.33  \n",
       "20  138169              0.82                97.05             2.13  \n",
       "21    1812              2.23                96.22             1.55  \n",
       "22    1359              2.37                95.89             1.73  \n",
       "23     241             18.34                81.33             0.33  \n",
       "24     645              1.89                96.00             2.10  \n",
       "25    8104              0.58                98.62             0.80  \n",
       "26    1823              0.69                97.85             1.46  \n",
       "27   16457              0.05                97.21             2.74  \n",
       "28    8954              0.01                99.05             0.94  \n",
       "29     377              2.64                96.13             1.23  \n",
       "30   35190              0.63                98.04             1.34  \n",
       "31    3897              0.79                98.62             0.59  \n",
       "32     805              0.58                98.46             0.96  \n",
       "33   22883              0.01                98.65             1.34  \n",
       "34    7389              0.09                97.76             2.15  \n",
       "35   18587              0.52                98.29             1.19  "
      ]
     },
     "execution_count": 3,
     "metadata": {},
     "output_type": "execute_result"
    }
   ],
   "source": [
    "df = pd.read_csv(\"../input/latest-covid19-india-statewise-data/Latest Covid-19 India Status.csv\")\n",
    "df"
   ]
  },
  {
   "cell_type": "code",
   "execution_count": 4,
   "id": "5978e107",
   "metadata": {
    "execution": {
     "iopub.execute_input": "2021-09-15T15:28:40.447780Z",
     "iopub.status.busy": "2021-09-15T15:28:40.443213Z",
     "iopub.status.idle": "2021-09-15T15:28:40.468172Z",
     "shell.execute_reply": "2021-09-15T15:28:40.467580Z",
     "shell.execute_reply.started": "2021-09-15T14:49:27.088103Z"
    },
    "papermill": {
     "duration": 0.050002,
     "end_time": "2021-09-15T15:28:40.468317",
     "exception": false,
     "start_time": "2021-09-15T15:28:40.418315",
     "status": "completed"
    },
    "tags": []
   },
   "outputs": [
    {
     "name": "stdout",
     "output_type": "stream",
     "text": [
      "<class 'pandas.core.frame.DataFrame'>\n",
      "RangeIndex: 36 entries, 0 to 35\n",
      "Data columns (total 8 columns):\n",
      " #   Column               Non-Null Count  Dtype  \n",
      "---  ------               --------------  -----  \n",
      " 0   State/UTs            36 non-null     object \n",
      " 1   Total Cases          36 non-null     int64  \n",
      " 2   Active               36 non-null     int64  \n",
      " 3   Discharged           36 non-null     int64  \n",
      " 4   Deaths               36 non-null     int64  \n",
      " 5   Active Ratio (%)     36 non-null     float64\n",
      " 6   Discharge Ratio (%)  36 non-null     float64\n",
      " 7   Death Ratio (%)      36 non-null     float64\n",
      "dtypes: float64(3), int64(4), object(1)\n",
      "memory usage: 2.4+ KB\n"
     ]
    }
   ],
   "source": [
    "df.info()"
   ]
  },
  {
   "cell_type": "code",
   "execution_count": 5,
   "id": "553a168a",
   "metadata": {
    "execution": {
     "iopub.execute_input": "2021-09-15T15:28:40.514259Z",
     "iopub.status.busy": "2021-09-15T15:28:40.513554Z",
     "iopub.status.idle": "2021-09-15T15:28:40.522162Z",
     "shell.execute_reply": "2021-09-15T15:28:40.521364Z",
     "shell.execute_reply.started": "2021-09-15T14:49:27.113761Z"
    },
    "papermill": {
     "duration": 0.033193,
     "end_time": "2021-09-15T15:28:40.522317",
     "exception": false,
     "start_time": "2021-09-15T15:28:40.489124",
     "status": "completed"
    },
    "tags": []
   },
   "outputs": [
    {
     "data": {
      "text/plain": [
       "State/UTs              0\n",
       "Total Cases            0\n",
       "Active                 0\n",
       "Discharged             0\n",
       "Deaths                 0\n",
       "Active Ratio (%)       0\n",
       "Discharge Ratio (%)    0\n",
       "Death Ratio (%)        0\n",
       "dtype: int64"
      ]
     },
     "execution_count": 5,
     "metadata": {},
     "output_type": "execute_result"
    }
   ],
   "source": [
    "df.isnull().sum()"
   ]
  },
  {
   "cell_type": "code",
   "execution_count": 6,
   "id": "3b650f30",
   "metadata": {
    "execution": {
     "iopub.execute_input": "2021-09-15T15:28:40.575023Z",
     "iopub.status.busy": "2021-09-15T15:28:40.574322Z",
     "iopub.status.idle": "2021-09-15T15:28:40.603839Z",
     "shell.execute_reply": "2021-09-15T15:28:40.604392Z",
     "shell.execute_reply.started": "2021-09-15T14:49:27.123752Z"
    },
    "papermill": {
     "duration": 0.060476,
     "end_time": "2021-09-15T15:28:40.604567",
     "exception": false,
     "start_time": "2021-09-15T15:28:40.544091",
     "status": "completed"
    },
    "tags": []
   },
   "outputs": [
    {
     "data": {
      "text/html": [
       "<div>\n",
       "<style scoped>\n",
       "    .dataframe tbody tr th:only-of-type {\n",
       "        vertical-align: middle;\n",
       "    }\n",
       "\n",
       "    .dataframe tbody tr th {\n",
       "        vertical-align: top;\n",
       "    }\n",
       "\n",
       "    .dataframe thead th {\n",
       "        text-align: right;\n",
       "    }\n",
       "</style>\n",
       "<table border=\"1\" class=\"dataframe\">\n",
       "  <thead>\n",
       "    <tr style=\"text-align: right;\">\n",
       "      <th></th>\n",
       "      <th>Total Cases</th>\n",
       "      <th>Active</th>\n",
       "      <th>Discharged</th>\n",
       "      <th>Deaths</th>\n",
       "      <th>Active Ratio (%)</th>\n",
       "      <th>Discharge Ratio (%)</th>\n",
       "      <th>Death Ratio (%)</th>\n",
       "    </tr>\n",
       "  </thead>\n",
       "  <tbody>\n",
       "    <tr>\n",
       "      <th>count</th>\n",
       "      <td>3.600000e+01</td>\n",
       "      <td>36.000000</td>\n",
       "      <td>3.600000e+01</td>\n",
       "      <td>36.000000</td>\n",
       "      <td>36.000000</td>\n",
       "      <td>36.000000</td>\n",
       "      <td>36.000000</td>\n",
       "    </tr>\n",
       "    <tr>\n",
       "      <th>mean</th>\n",
       "      <td>9.247105e+05</td>\n",
       "      <td>10061.305556</td>\n",
       "      <td>9.023378e+05</td>\n",
       "      <td>12311.472222</td>\n",
       "      <td>1.175000</td>\n",
       "      <td>97.558611</td>\n",
       "      <td>1.266667</td>\n",
       "    </tr>\n",
       "    <tr>\n",
       "      <th>std</th>\n",
       "      <td>1.363114e+06</td>\n",
       "      <td>35512.447915</td>\n",
       "      <td>1.319414e+06</td>\n",
       "      <td>23708.098573</td>\n",
       "      <td>3.103863</td>\n",
       "      <td>2.983397</td>\n",
       "      <td>0.566321</td>\n",
       "    </tr>\n",
       "    <tr>\n",
       "      <th>min</th>\n",
       "      <td>7.584000e+03</td>\n",
       "      <td>5.000000</td>\n",
       "      <td>7.447000e+03</td>\n",
       "      <td>4.000000</td>\n",
       "      <td>0.010000</td>\n",
       "      <td>81.330000</td>\n",
       "      <td>0.040000</td>\n",
       "    </tr>\n",
       "    <tr>\n",
       "      <th>25%</th>\n",
       "      <td>7.699000e+04</td>\n",
       "      <td>153.500000</td>\n",
       "      <td>7.243350e+04</td>\n",
       "      <td>814.000000</td>\n",
       "      <td>0.050000</td>\n",
       "      <td>97.722500</td>\n",
       "      <td>0.955000</td>\n",
       "    </tr>\n",
       "    <tr>\n",
       "      <th>50%</th>\n",
       "      <td>4.718740e+05</td>\n",
       "      <td>556.500000</td>\n",
       "      <td>4.635625e+05</td>\n",
       "      <td>5445.500000</td>\n",
       "      <td>0.460000</td>\n",
       "      <td>98.280000</td>\n",
       "      <td>1.300000</td>\n",
       "    </tr>\n",
       "    <tr>\n",
       "      <th>75%</th>\n",
       "      <td>1.007885e+06</td>\n",
       "      <td>5343.500000</td>\n",
       "      <td>9.939285e+05</td>\n",
       "      <td>13671.000000</td>\n",
       "      <td>0.797500</td>\n",
       "      <td>98.652500</td>\n",
       "      <td>1.585000</td>\n",
       "    </tr>\n",
       "    <tr>\n",
       "      <th>max</th>\n",
       "      <td>6.500617e+06</td>\n",
       "      <td>209335.000000</td>\n",
       "      <td>6.309021e+06</td>\n",
       "      <td>138169.000000</td>\n",
       "      <td>18.340000</td>\n",
       "      <td>99.920000</td>\n",
       "      <td>2.740000</td>\n",
       "    </tr>\n",
       "  </tbody>\n",
       "</table>\n",
       "</div>"
      ],
      "text/plain": [
       "        Total Cases         Active    Discharged         Deaths  \\\n",
       "count  3.600000e+01      36.000000  3.600000e+01      36.000000   \n",
       "mean   9.247105e+05   10061.305556  9.023378e+05   12311.472222   \n",
       "std    1.363114e+06   35512.447915  1.319414e+06   23708.098573   \n",
       "min    7.584000e+03       5.000000  7.447000e+03       4.000000   \n",
       "25%    7.699000e+04     153.500000  7.243350e+04     814.000000   \n",
       "50%    4.718740e+05     556.500000  4.635625e+05    5445.500000   \n",
       "75%    1.007885e+06    5343.500000  9.939285e+05   13671.000000   \n",
       "max    6.500617e+06  209335.000000  6.309021e+06  138169.000000   \n",
       "\n",
       "       Active Ratio (%)  Discharge Ratio (%)  Death Ratio (%)  \n",
       "count         36.000000            36.000000        36.000000  \n",
       "mean           1.175000            97.558611         1.266667  \n",
       "std            3.103863             2.983397         0.566321  \n",
       "min            0.010000            81.330000         0.040000  \n",
       "25%            0.050000            97.722500         0.955000  \n",
       "50%            0.460000            98.280000         1.300000  \n",
       "75%            0.797500            98.652500         1.585000  \n",
       "max           18.340000            99.920000         2.740000  "
      ]
     },
     "execution_count": 6,
     "metadata": {},
     "output_type": "execute_result"
    }
   ],
   "source": [
    "df.describe()"
   ]
  },
  {
   "cell_type": "code",
   "execution_count": 7,
   "id": "41860d95",
   "metadata": {
    "execution": {
     "iopub.execute_input": "2021-09-15T15:28:40.658329Z",
     "iopub.status.busy": "2021-09-15T15:28:40.657064Z",
     "iopub.status.idle": "2021-09-15T15:28:41.304765Z",
     "shell.execute_reply": "2021-09-15T15:28:41.305327Z",
     "shell.execute_reply.started": "2021-09-15T14:49:27.160144Z"
    },
    "papermill": {
     "duration": 0.67736,
     "end_time": "2021-09-15T15:28:41.305526",
     "exception": false,
     "start_time": "2021-09-15T15:28:40.628166",
     "status": "completed"
    },
    "tags": []
   },
   "outputs": [
    {
     "data": {
      "text/plain": [
       "<AxesSubplot:>"
      ]
     },
     "execution_count": 7,
     "metadata": {},
     "output_type": "execute_result"
    },
    {
     "data": {
      "image/png": "[encoded data removed]",
      "text/plain": [
       "<Figure size 432x288 with 2 Axes>"
      ]
     },
     "metadata": {
      "needs_background": "light"
     },
     "output_type": "display_data"
    }
   ],
   "source": [
    "sns.heatmap(df.corr(), annot=True, cmap=\"YlGnBu\")"
   ]
  },
  {
   "cell_type": "markdown",
   "id": "5067e83b",
   "metadata": {
    "papermill": {
     "duration": 0.024771,
     "end_time": "2021-09-15T15:28:41.356481",
     "exception": false,
     "start_time": "2021-09-15T15:28:41.331710",
     "status": "completed"
    },
    "tags": []
   },
   "source": [
    "# Observation:\n",
    "### There is a perfect correlation between Total cases and Discharged cases\n",
    "### There is a high correlation between Deaths and discharged and also between total cases and deaths"
   ]
  },
  {
   "cell_type": "code",
   "execution_count": 8,
   "id": "ba6db167",
   "metadata": {
    "execution": {
     "iopub.execute_input": "2021-09-15T15:28:41.407623Z",
     "iopub.status.busy": "2021-09-15T15:28:41.406926Z",
     "iopub.status.idle": "2021-09-15T15:28:41.413769Z",
     "shell.execute_reply": "2021-09-15T15:28:41.414290Z",
     "shell.execute_reply.started": "2021-09-15T14:49:27.746934Z"
    },
    "papermill": {
     "duration": 0.034693,
     "end_time": "2021-09-15T15:28:41.414487",
     "exception": false,
     "start_time": "2021-09-15T15:28:41.379794",
     "status": "completed"
    },
    "tags": []
   },
   "outputs": [
    {
     "data": {
      "text/plain": [
       "Index(['State/UTs', 'Total Cases', 'Active', 'Discharged', 'Deaths',\n",
       "       'Active Ratio (%)', 'Discharge Ratio (%)', 'Death Ratio (%)'],\n",
       "      dtype='object')"
      ]
     },
     "execution_count": 8,
     "metadata": {},
     "output_type": "execute_result"
    }
   ],
   "source": [
    "df.columns"
   ]
  },
  {
   "cell_type": "code",
   "execution_count": 9,
   "id": "eadb015c",
   "metadata": {
    "execution": {
     "iopub.execute_input": "2021-09-15T15:28:41.476036Z",
     "iopub.status.busy": "2021-09-15T15:28:41.471036Z",
     "iopub.status.idle": "2021-09-15T15:28:41.723432Z",
     "shell.execute_reply": "2021-09-15T15:28:41.723989Z",
     "shell.execute_reply.started": "2021-09-15T15:27:53.497623Z"
    },
    "papermill": {
     "duration": 0.285403,
     "end_time": "2021-09-15T15:28:41.724182",
     "exception": false,
     "start_time": "2021-09-15T15:28:41.438779",
     "status": "completed"
    },
    "tags": []
   },
   "outputs": [
    {
     "data": {
      "text/plain": [
       "<AxesSubplot:xlabel='Total Cases', ylabel='State/UTs'>"
      ]
     },
     "execution_count": 9,
     "metadata": {},
     "output_type": "execute_result"
    },
    {
     "data": {
      "image/png": "[encoded data removed]",
      "text/plain": [
       "<Figure size 432x288 with 1 Axes>"
      ]
     },
     "metadata": {
      "needs_background": "light"
     },
     "output_type": "display_data"
    }
   ],
   "source": [
    "# Top 10 states with highest active cases\n",
    "top_10_total = df.nlargest(10,'Total Cases')\n",
    "sns.barplot(x='Total Cases', y='State/UTs',data=top_10_total, orient='h')"
   ]
  },
  {
   "cell_type": "code",
   "execution_count": 10,
   "id": "714461e4",
   "metadata": {
    "execution": {
     "iopub.execute_input": "2021-09-15T15:28:41.786749Z",
     "iopub.status.busy": "2021-09-15T15:28:41.786061Z",
     "iopub.status.idle": "2021-09-15T15:28:41.789395Z",
     "shell.execute_reply": "2021-09-15T15:28:41.789956Z",
     "shell.execute_reply.started": "2021-09-15T15:28:06.817261Z"
    },
    "papermill": {
     "duration": 0.038254,
     "end_time": "2021-09-15T15:28:41.790142",
     "exception": false,
     "start_time": "2021-09-15T15:28:41.751888",
     "status": "completed"
    },
    "tags": []
   },
   "outputs": [
    {
     "data": {
      "text/plain": [
       "State/UTs              Maharashtra\n",
       "Total Cases                6500617\n",
       "Active                       53427\n",
       "Discharged                 6309021\n",
       "Deaths                      138169\n",
       "Active Ratio (%)              0.82\n",
       "Discharge Ratio (%)          97.05\n",
       "Death Ratio (%)               2.13\n",
       "Name: 20, dtype: object"
      ]
     },
     "execution_count": 10,
     "metadata": {},
     "output_type": "execute_result"
    }
   ],
   "source": [
    "# State with highest total cases\n",
    "top_10_total.iloc[0]"
   ]
  },
  {
   "cell_type": "code",
   "execution_count": 11,
   "id": "ec7de174",
   "metadata": {
    "execution": {
     "iopub.execute_input": "2021-09-15T15:28:41.848190Z",
     "iopub.status.busy": "2021-09-15T15:28:41.846793Z",
     "iopub.status.idle": "2021-09-15T15:28:42.107806Z",
     "shell.execute_reply": "2021-09-15T15:28:42.106940Z",
     "shell.execute_reply.started": "2021-09-15T14:49:27.994016Z"
    },
    "papermill": {
     "duration": 0.290357,
     "end_time": "2021-09-15T15:28:42.107997",
     "exception": false,
     "start_time": "2021-09-15T15:28:41.817640",
     "status": "completed"
    },
    "tags": []
   },
   "outputs": [
    {
     "data": {
      "text/plain": [
       "<AxesSubplot:xlabel='Active', ylabel='State/UTs'>"
      ]
     },
     "execution_count": 11,
     "metadata": {},
     "output_type": "execute_result"
    },
    {
     "data": {
      "image/png": "[encoded data removed]",
      "text/plain": [
       "<Figure size 432x288 with 1 Axes>"
      ]
     },
     "metadata": {
      "needs_background": "light"
     },
     "output_type": "display_data"
    }
   ],
   "source": [
    "# Top 10 States with highest active cases\n",
    "top_10_active = df.nlargest(10, 'Active')\n",
    "sns.barplot(x='Active', y='State/UTs', data=top_10_active, orient='h')"
   ]
  },
  {
   "cell_type": "code",
   "execution_count": 12,
   "id": "eb4c384d",
   "metadata": {
    "execution": {
     "iopub.execute_input": "2021-09-15T15:28:42.169188Z",
     "iopub.status.busy": "2021-09-15T15:28:42.168129Z",
     "iopub.status.idle": "2021-09-15T15:28:42.172217Z",
     "shell.execute_reply": "2021-09-15T15:28:42.171570Z",
     "shell.execute_reply.started": "2021-09-15T14:49:28.230583Z"
    },
    "papermill": {
     "duration": 0.037609,
     "end_time": "2021-09-15T15:28:42.172361",
     "exception": false,
     "start_time": "2021-09-15T15:28:42.134752",
     "status": "completed"
    },
    "tags": []
   },
   "outputs": [
    {
     "data": {
      "text/plain": [
       "State/UTs               Kerala\n",
       "Total Cases            4390489\n",
       "Active                  209335\n",
       "Discharged             4158504\n",
       "Deaths                   22650\n",
       "Active Ratio (%)          4.77\n",
       "Discharge Ratio (%)      94.72\n",
       "Death Ratio (%)           0.52\n",
       "Name: 16, dtype: object"
      ]
     },
     "execution_count": 12,
     "metadata": {},
     "output_type": "execute_result"
    }
   ],
   "source": [
    "# State with highest Active cases\n",
    "top_10_active.iloc[0]"
   ]
  },
  {
   "cell_type": "code",
   "execution_count": 13,
   "id": "f8d5236f",
   "metadata": {
    "execution": {
     "iopub.execute_input": "2021-09-15T15:28:42.383725Z",
     "iopub.status.busy": "2021-09-15T15:28:42.382778Z",
     "iopub.status.idle": "2021-09-15T15:28:42.597113Z",
     "shell.execute_reply": "2021-09-15T15:28:42.598058Z",
     "shell.execute_reply.started": "2021-09-15T14:49:28.238771Z"
    },
    "papermill": {
     "duration": 0.399068,
     "end_time": "2021-09-15T15:28:42.598308",
     "exception": false,
     "start_time": "2021-09-15T15:28:42.199240",
     "status": "completed"
    },
    "tags": []
   },
   "outputs": [
    {
     "data": {
      "text/plain": [
       "<AxesSubplot:xlabel='Deaths', ylabel='State/UTs'>"
      ]
     },
     "execution_count": 13,
     "metadata": {},
     "output_type": "execute_result"
    },
    {
     "data": {
      "image/png": "[encoded data removed]",
      "text/plain": [
       "<Figure size 432x288 with 1 Axes>"
      ]
     },
     "metadata": {
      "needs_background": "light"
     },
     "output_type": "display_data"
    }
   ],
   "source": [
    "# Top 10 States with highest deaths\n",
    "top_10_deaths = df.nlargest(10, 'Deaths')\n",
    "sns.barplot(x='Deaths', y='State/UTs', data=top_10_deaths, orient='h')"
   ]
  },
  {
   "cell_type": "code",
   "execution_count": 14,
   "id": "d0ec6cef",
   "metadata": {
    "execution": {
     "iopub.execute_input": "2021-09-15T15:28:42.666345Z",
     "iopub.status.busy": "2021-09-15T15:28:42.665390Z",
     "iopub.status.idle": "2021-09-15T15:28:42.668984Z",
     "shell.execute_reply": "2021-09-15T15:28:42.669431Z",
     "shell.execute_reply.started": "2021-09-15T15:22:16.147242Z"
    },
    "papermill": {
     "duration": 0.040551,
     "end_time": "2021-09-15T15:28:42.669623",
     "exception": false,
     "start_time": "2021-09-15T15:28:42.629072",
     "status": "completed"
    },
    "tags": []
   },
   "outputs": [
    {
     "data": {
      "text/plain": [
       "State/UTs              Maharashtra\n",
       "Total Cases                6500617\n",
       "Active                       53427\n",
       "Discharged                 6309021\n",
       "Deaths                      138169\n",
       "Active Ratio (%)              0.82\n",
       "Discharge Ratio (%)          97.05\n",
       "Death Ratio (%)               2.13\n",
       "Name: 20, dtype: object"
      ]
     },
     "execution_count": 14,
     "metadata": {},
     "output_type": "execute_result"
    }
   ],
   "source": [
    "# State with highest deaths\n",
    "top_10_deaths.iloc[0]"
   ]
  },
  {
   "cell_type": "code",
   "execution_count": 15,
   "id": "f690d302",
   "metadata": {
    "execution": {
     "iopub.execute_input": "2021-09-15T15:28:42.738933Z",
     "iopub.status.busy": "2021-09-15T15:28:42.737808Z",
     "iopub.status.idle": "2021-09-15T15:28:42.978827Z",
     "shell.execute_reply": "2021-09-15T15:28:42.979404Z",
     "shell.execute_reply.started": "2021-09-15T15:13:14.328280Z"
    },
    "papermill": {
     "duration": 0.280019,
     "end_time": "2021-09-15T15:28:42.979591",
     "exception": false,
     "start_time": "2021-09-15T15:28:42.699572",
     "status": "completed"
    },
    "tags": []
   },
   "outputs": [
    {
     "data": {
      "text/plain": [
       "<AxesSubplot:xlabel='Discharged', ylabel='State/UTs'>"
      ]
     },
     "execution_count": 15,
     "metadata": {},
     "output_type": "execute_result"
    },
    {
     "data": {
      "image/png": "[encoded data removed]",
      "text/plain": [
       "<Figure size 432x288 with 1 Axes>"
      ]
     },
     "metadata": {
      "needs_background": "light"
     },
     "output_type": "display_data"
    }
   ],
   "source": [
    "# Top 10 States with highest discharged\n",
    "top_10_discharged = df.nlargest(10, 'Discharged')\n",
    "sns.barplot(x='Discharged', y='State/UTs', data=top_10_discharged, orient='h')"
   ]
  },
  {
   "cell_type": "code",
   "execution_count": 16,
   "id": "8a99bd77",
   "metadata": {
    "execution": {
     "iopub.execute_input": "2021-09-15T15:28:43.045324Z",
     "iopub.status.busy": "2021-09-15T15:28:43.044647Z",
     "iopub.status.idle": "2021-09-15T15:28:43.051713Z",
     "shell.execute_reply": "2021-09-15T15:28:43.052247Z",
     "shell.execute_reply.started": "2021-09-15T15:13:30.322367Z"
    },
    "papermill": {
     "duration": 0.04237,
     "end_time": "2021-09-15T15:28:43.052437",
     "exception": false,
     "start_time": "2021-09-15T15:28:43.010067",
     "status": "completed"
    },
    "tags": []
   },
   "outputs": [
    {
     "data": {
      "text/plain": [
       "State/UTs              Maharashtra\n",
       "Total Cases                6500617\n",
       "Active                       53427\n",
       "Discharged                 6309021\n",
       "Deaths                      138169\n",
       "Active Ratio (%)              0.82\n",
       "Discharge Ratio (%)          97.05\n",
       "Death Ratio (%)               2.13\n",
       "Name: 20, dtype: object"
      ]
     },
     "execution_count": 16,
     "metadata": {},
     "output_type": "execute_result"
    }
   ],
   "source": [
    "# State with highest people discharged\n",
    "top_10_discharged.iloc[0]"
   ]
  },
  {
   "cell_type": "code",
   "execution_count": 17,
   "id": "b7ea3ee7",
   "metadata": {
    "execution": {
     "iopub.execute_input": "2021-09-15T15:28:43.145104Z",
     "iopub.status.busy": "2021-09-15T15:28:43.122188Z",
     "iopub.status.idle": "2021-09-15T15:28:43.381721Z",
     "shell.execute_reply": "2021-09-15T15:28:43.380989Z",
     "shell.execute_reply.started": "2021-09-15T14:49:28.548858Z"
    },
    "papermill": {
     "duration": 0.296838,
     "end_time": "2021-09-15T15:28:43.381899",
     "exception": false,
     "start_time": "2021-09-15T15:28:43.085061",
     "status": "completed"
    },
    "tags": []
   },
   "outputs": [
    {
     "data": {
      "text/plain": [
       "<AxesSubplot:xlabel='Active Ratio (%)', ylabel='State/UTs'>"
      ]
     },
     "execution_count": 17,
     "metadata": {},
     "output_type": "execute_result"
    },
    {
     "data": {
      "image/png": "[encoded data removed]",
      "text/plain": [
       "<Figure size 432x288 with 1 Axes>"
      ]
     },
     "metadata": {
      "needs_background": "light"
     },
     "output_type": "display_data"
    }
   ],
   "source": [
    "top_10_active_ratio = df.nlargest(10, 'Active Ratio (%)')\n",
    "sns.barplot(x=\"Active Ratio (%)\", y='State/UTs', data= top_10_active_ratio, orient='h')"
   ]
  },
  {
   "cell_type": "code",
   "execution_count": 18,
   "id": "f33bdec7",
   "metadata": {
    "execution": {
     "iopub.execute_input": "2021-09-15T15:28:43.453980Z",
     "iopub.status.busy": "2021-09-15T15:28:43.453232Z",
     "iopub.status.idle": "2021-09-15T15:28:43.456590Z",
     "shell.execute_reply": "2021-09-15T15:28:43.456096Z",
     "shell.execute_reply.started": "2021-09-15T15:23:04.726884Z"
    },
    "papermill": {
     "duration": 0.042195,
     "end_time": "2021-09-15T15:28:43.456737",
     "exception": false,
     "start_time": "2021-09-15T15:28:43.414542",
     "status": "completed"
    },
    "tags": []
   },
   "outputs": [
    {
     "data": {
      "text/plain": [
       "State/UTs              Mizoram\n",
       "Total Cases              72883\n",
       "Active                   13369\n",
       "Discharged               59273\n",
       "Deaths                     241\n",
       "Active Ratio (%)         18.34\n",
       "Discharge Ratio (%)      81.33\n",
       "Death Ratio (%)           0.33\n",
       "Name: 23, dtype: object"
      ]
     },
     "execution_count": 18,
     "metadata": {},
     "output_type": "execute_result"
    }
   ],
   "source": [
    "# State with highest active ratio\n",
    "top_10_active_ratio.iloc[0]"
   ]
  },
  {
   "cell_type": "code",
   "execution_count": 19,
   "id": "a0b36631",
   "metadata": {
    "execution": {
     "iopub.execute_input": "2021-09-15T15:28:43.567675Z",
     "iopub.status.busy": "2021-09-15T15:28:43.561415Z",
     "iopub.status.idle": "2021-09-15T15:28:43.771342Z",
     "shell.execute_reply": "2021-09-15T15:28:43.771825Z",
     "shell.execute_reply.started": "2021-09-15T15:23:44.962474Z"
    },
    "papermill": {
     "duration": 0.284178,
     "end_time": "2021-09-15T15:28:43.772029",
     "exception": false,
     "start_time": "2021-09-15T15:28:43.487851",
     "status": "completed"
    },
    "tags": []
   },
   "outputs": [
    {
     "data": {
      "text/plain": [
       "<AxesSubplot:xlabel='Death Ratio (%)', ylabel='State/UTs'>"
      ]
     },
     "execution_count": 19,
     "metadata": {},
     "output_type": "execute_result"
    },
    {
     "data": {
      "image/png": "[encoded data removed]",
      "text/plain": [
       "<Figure size 432x288 with 1 Axes>"
      ]
     },
     "metadata": {
      "needs_background": "light"
     },
     "output_type": "display_data"
    }
   ],
   "source": [
    "# Top 10 States with highest death ratio\n",
    "top_10_death_ratio = df.nlargest(10, 'Death Ratio (%)')\n",
    "sns.barplot(x=\"Death Ratio (%)\", y='State/UTs', data= top_10_death_ratio, orient='h')"
   ]
  },
  {
   "cell_type": "code",
   "execution_count": 20,
   "id": "ce365f96",
   "metadata": {
    "execution": {
     "iopub.execute_input": "2021-09-15T15:28:43.847396Z",
     "iopub.status.busy": "2021-09-15T15:28:43.846316Z",
     "iopub.status.idle": "2021-09-15T15:28:43.850193Z",
     "shell.execute_reply": "2021-09-15T15:28:43.850703Z",
     "shell.execute_reply.started": "2021-09-15T14:49:29.093861Z"
    },
    "papermill": {
     "duration": 0.045224,
     "end_time": "2021-09-15T15:28:43.850901",
     "exception": false,
     "start_time": "2021-09-15T15:28:43.805677",
     "status": "completed"
    },
    "tags": []
   },
   "outputs": [
    {
     "data": {
      "text/plain": [
       "State/UTs              Punjab\n",
       "Total Cases            601072\n",
       "Active                    309\n",
       "Discharged             584306\n",
       "Deaths                  16457\n",
       "Active Ratio (%)         0.05\n",
       "Discharge Ratio (%)     97.21\n",
       "Death Ratio (%)          2.74\n",
       "Name: 27, dtype: object"
      ]
     },
     "execution_count": 20,
     "metadata": {},
     "output_type": "execute_result"
    }
   ],
   "source": [
    "# State with highest death ratio\n",
    "top_10_death_ratio.iloc[0]"
   ]
  },
  {
   "cell_type": "code",
   "execution_count": 21,
   "id": "b8564b79",
   "metadata": {
    "execution": {
     "iopub.execute_input": "2021-09-15T15:28:43.921044Z",
     "iopub.status.busy": "2021-09-15T15:28:43.920040Z",
     "iopub.status.idle": "2021-09-15T15:28:44.165472Z",
     "shell.execute_reply": "2021-09-15T15:28:44.166043Z",
     "shell.execute_reply.started": "2021-09-15T15:23:55.257065Z"
    },
    "papermill": {
     "duration": 0.282858,
     "end_time": "2021-09-15T15:28:44.166218",
     "exception": false,
     "start_time": "2021-09-15T15:28:43.883360",
     "status": "completed"
    },
    "tags": []
   },
   "outputs": [
    {
     "data": {
      "text/plain": [
       "<AxesSubplot:xlabel='Discharge Ratio (%)', ylabel='State/UTs'>"
      ]
     },
     "execution_count": 21,
     "metadata": {},
     "output_type": "execute_result"
    },
    {
     "data": {
      "image/png": "[encoded data removed]",
      "text/plain": [
       "<Figure size 432x288 with 1 Axes>"
      ]
     },
     "metadata": {
      "needs_background": "light"
     },
     "output_type": "display_data"
    }
   ],
   "source": [
    "# Top 10 States with highest discharge ratio\n",
    "top_10_discharge_ratio = df.nlargest(10, 'Discharge Ratio (%)')\n",
    "sns.barplot(x='Discharge Ratio (%)', y='State/UTs', data=top_10_discharge_ratio, orient='h')"
   ]
  },
  {
   "cell_type": "code",
   "execution_count": 22,
   "id": "f989b87b",
   "metadata": {
    "execution": {
     "iopub.execute_input": "2021-09-15T15:28:44.247325Z",
     "iopub.status.busy": "2021-09-15T15:28:44.246451Z",
     "iopub.status.idle": "2021-09-15T15:28:44.250033Z",
     "shell.execute_reply": "2021-09-15T15:28:44.250513Z",
     "shell.execute_reply.started": "2021-09-15T15:24:09.866596Z"
    },
    "papermill": {
     "duration": 0.05046,
     "end_time": "2021-09-15T15:28:44.250698",
     "exception": false,
     "start_time": "2021-09-15T15:28:44.200238",
     "status": "completed"
    },
    "tags": []
   },
   "outputs": [
    {
     "data": {
      "text/plain": [
       "State/UTs              Dadra and Nagar Haveli and Daman and Diu\n",
       "Total Cases                                               10670\n",
       "Active                                                        5\n",
       "Discharged                                                10661\n",
       "Deaths                                                        4\n",
       "Active Ratio (%)                                           0.05\n",
       "Discharge Ratio (%)                                       99.92\n",
       "Death Ratio (%)                                            0.04\n",
       "Name: 7, dtype: object"
      ]
     },
     "execution_count": 22,
     "metadata": {},
     "output_type": "execute_result"
    }
   ],
   "source": [
    "# State with highest discharge ratio\n",
    "top_10_discharge_ratio.iloc[0]"
   ]
  }
 ],
 "metadata": {
  "kernelspec": {
   "display_name": "Python 3",
   "language": "python",
   "name": "python3"
  },
  "language_info": {
   "codemirror_mode": {
    "name": "ipython",
    "version": 3
   },
   "file_extension": ".py",
   "mimetype": "text/x-python",
   "name": "python",
   "nbconvert_exporter": "python",
   "pygments_lexer": "ipython3",
   "version": "3.7.10"
  },
  "papermill": {
   "default_parameters": {},
   "duration": 15.843724,
   "end_time": "2021-09-15T15:28:45.519794",
   "environment_variables": {},
   "exception": null,
   "input_path": "__notebook__.ipynb",
   "output_path": "__notebook__.ipynb",
   "parameters": {},
   "start_time": "2021-09-15T15:28:29.676070",
   "version": "2.3.3"
  }
 },
 "nbformat": 4,
 "nbformat_minor": 5
}
